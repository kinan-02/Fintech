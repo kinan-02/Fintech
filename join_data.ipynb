{
  "nbformat": 4,
  "nbformat_minor": 0,
  "metadata": {
    "colab": {
      "provenance": []
    },
    "kernelspec": {
      "name": "python3",
      "display_name": "Python 3"
    },
    "language_info": {
      "name": "python"
    }
  },
  "cells": [
    {
      "cell_type": "code",
      "execution_count": null,
      "metadata": {
        "id": "eH9BU_vxS2ct"
      },
      "outputs": [],
      "source": [
        "import pandas as pd"
      ]
    },
    {
      "cell_type": "code",
      "source": [
        "btc = pd.read_parquet(\"/content/BTC2023_New.parquet\")\n",
        "btc = btc.drop(columns=['vwap', 'volume'])"
      ],
      "metadata": {
        "id": "VLLpzmdoTTPh"
      },
      "execution_count": null,
      "outputs": []
    },
    {
      "cell_type": "code",
      "source": [
        "eth = pd.read_parquet(\"/content/ETH_New.parquet\")\n",
        "eth = eth.drop(columns=['vwap', 'volume'])\n",
        "eth = eth.dropna()"
      ],
      "metadata": {
        "id": "h4mi8LfHXXW_"
      },
      "execution_count": null,
      "outputs": []
    },
    {
      "cell_type": "code",
      "source": [
        "df = btc.join(eth, how='inner', lsuffix='_btc', rsuffix='_eth')"
      ],
      "metadata": {
        "id": "r8musp8sWS4z"
      },
      "execution_count": null,
      "outputs": []
    },
    {
      "cell_type": "code",
      "source": [
        "cl = pd.read_parquet(\"/content/CL_New.parquet\")\n",
        "cl = cl.drop(columns=['vwap', 'volume'])\n",
        "cl = cl.dropna()"
      ],
      "metadata": {
        "id": "dONPqzRITx5E"
      },
      "execution_count": null,
      "outputs": []
    },
    {
      "cell_type": "code",
      "source": [
        "gold = pd.read_parquet(\"/content/GLD_New.parquet\")\n",
        "gold = gold.drop(columns=['vwap', 'volume'])\n",
        "gold = gold.dropna()"
      ],
      "metadata": {
        "id": "Xb5EPngNY1ne"
      },
      "execution_count": null,
      "outputs": []
    },
    {
      "cell_type": "code",
      "source": [
        "df1 = gold.join(cl, how='inner', lsuffix='_gold', rsuffix='_cl')"
      ],
      "metadata": {
        "id": "x_p4oVdDbyPe"
      },
      "execution_count": null,
      "outputs": []
    },
    {
      "cell_type": "code",
      "source": [
        "mstr = pd.read_parquet(\"/content/MSTR_New.parquet\")\n",
        "mstr = mstr.drop(columns=['vwap', 'volume'])\n",
        "mstr = mstr.dropna()"
      ],
      "metadata": {
        "id": "lux8jiZqZ3oj"
      },
      "execution_count": null,
      "outputs": []
    },
    {
      "cell_type": "code",
      "source": [
        "ndaq = pd.read_parquet(\"/content/NDAQ_New.parquet\")\n",
        "ndaq = ndaq.drop(columns=['vwap', 'volume'])\n",
        "ndaq = ndaq.dropna()"
      ],
      "metadata": {
        "id": "d0i5WJb3aNQM"
      },
      "execution_count": null,
      "outputs": []
    },
    {
      "cell_type": "code",
      "source": [
        "df2 = mstr.join(ndaq, how='inner', lsuffix='_mstr', rsuffix='_ndaq')"
      ],
      "metadata": {
        "id": "_N4JnbDIb3Ot"
      },
      "execution_count": null,
      "outputs": []
    },
    {
      "cell_type": "code",
      "source": [
        "spy = pd.read_parquet(\"/content/SPY_New.parquet\")\n",
        "spy = spy.drop(columns=['vwap', 'volume'])\n",
        "spy = spy.dropna()"
      ],
      "metadata": {
        "id": "A7fqI1TyaXX0"
      },
      "execution_count": null,
      "outputs": []
    },
    {
      "cell_type": "code",
      "source": [
        "uup = pd.read_parquet(\"/content/UUP2023_New.parquet\")\n",
        "uup = uup.drop(columns=['vwap', 'volume'])\n",
        "uup = uup.dropna()"
      ],
      "metadata": {
        "id": "6zkhGyeYadCj"
      },
      "execution_count": null,
      "outputs": []
    },
    {
      "cell_type": "code",
      "source": [
        "df3 = spy.join(uup, how='inner', lsuffix='_spy', rsuffix='_uup')"
      ],
      "metadata": {
        "id": "mBfOJtbmaoYm"
      },
      "execution_count": null,
      "outputs": []
    },
    {
      "cell_type": "code",
      "source": [
        "combine = df.join(df1, how='inner')"
      ],
      "metadata": {
        "id": "6_ni4RxPcTAq"
      },
      "execution_count": null,
      "outputs": []
    },
    {
      "cell_type": "code",
      "source": [
        "combine1 = df3.join(df2, how='inner')"
      ],
      "metadata": {
        "id": "IUm8vCZgcmK5"
      },
      "execution_count": null,
      "outputs": []
    },
    {
      "cell_type": "code",
      "source": [
        "final = combine.join(combine1, how='inner')"
      ],
      "metadata": {
        "id": "PKS0jlu2c8ND"
      },
      "execution_count": null,
      "outputs": []
    },
    {
      "cell_type": "code",
      "source": [
        "final.to_parquet('final_data.parquet', engine='pyarrow', index=True)"
      ],
      "metadata": {
        "id": "7Cj5QM-7diCx"
      },
      "execution_count": null,
      "outputs": []
    },
    {
      "cell_type": "code",
      "source": [
        "f = pd.read_parquet(\"/content/final_data.parquet\")"
      ],
      "metadata": {
        "id": "YjaHtlMWdin7"
      },
      "execution_count": null,
      "outputs": []
    }
  ]
}